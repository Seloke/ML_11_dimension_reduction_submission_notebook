{
 "cells": [
  {
   "cell_type": "markdown",
   "metadata": {},
   "source": [
    "# Formative Assessment"
   ]
  },
  {
   "cell_type": "markdown",
   "metadata": {},
   "source": [
    "### The goal"
   ]
  },
  {
   "cell_type": "markdown",
   "metadata": {},
   "source": [
    "The goal of the assignment is to predict active power of a wind turbine using several input features. The data comes from a wind farm in France, [La Haute Borne Data (2013-2016)](https://opendata-renewables.engie.com/explore/dataset/la-haute-borne-data-2013-2016/table/?dataChart=eyJxdWVyaWVzIjpbeyJjb25maWciOnsiZGF0YXNldCI6ImxhLWhhdXRlLWJvcm5lLWRhdGEtMjAxMy0yMDE2Iiwib3B0aW9ucyI6e319LCJjaGFydHMiOlt7InR5cGUiOiJsaW5lIiwiZnVuYyI6IkFWRyIsInlBeGlzIjoiYmFfYXZnIiwic2NpZW50aWZpY0Rpc3BsYXkiOnRydWUsImNvbG9yIjoiIzY2YzJhNSJ9XSwieEF4aXMiOiJkYXRlX3RpbWUiLCJtYXhwb2ludHMiOiIiLCJ0aW1lc2NhbGUiOiJ5ZWFyIiwic29ydCI6IiJ9XX0%3D). A total of 139 features are included in the dataset, with several measures of the same feature. For instance, the active power feature is split into the following measurements: `P_min, P_max, P_avg, P_std`. \n",
    "\n",
    "The overall tasks are the following:\n",
    "\n",
    "1. Use a random forest regressor to predict power output. \n",
    "2. Perform dimension reduction using PCA.\n",
    "2. Perform cross validation to determine how well the model generalises. \n",
    "3. Determine the importance of the features.\n",
    "4. Determine the performance of the models as well.\n",
    "\n",
    "The notebook will guide you as to how to go about fulfilling these overall tasks by doing other smaller subtasks.\n",
    "\n",
    "Note that the dataset is very large, with 139 columns, so using a bit of domain knowledge we identified the following features that could be using in predicting wind turbine power output. Add to the feature subset as you build the model.\n",
    "\n"
   ]
  },
  {
   "cell_type": "markdown",
   "metadata": {},
   "source": [
    "### Load the data"
   ]
  },
  {
   "cell_type": "markdown",
   "metadata": {},
   "source": [
    "Import the necessary libraries and load the data. Once loaded, investigate the data. There are two files: `data_description.csv` lists the variables or features of the dataset. The file `wind-data.csv` contains the data."
   ]
  },
  {
   "cell_type": "code",
   "execution_count": null,
   "metadata": {},
   "outputs": [],
   "source": [
    "import pandas as pd\n",
    "import numpy as np\n",
    "import matplotlib.pyplot as plt\n",
    "from sklearn.decomposition import PCA\n",
    "from sklearn import linear_model\n",
    "from sklearn.pipeline import Pipeline\n",
    "from sklearn.model_selection import train_test_split\n",
    "from sklearn.metrics import confusion_matrix, f1_score\n",
    "%matplotlib inline"
   ]
  },
  {
   "cell_type": "markdown",
   "metadata": {},
   "source": [
    "Load both the `data_description.csv` and `wind-data.csv` files."
   ]
  },
  {
   "cell_type": "code",
   "execution_count": null,
   "metadata": {},
   "outputs": [],
   "source": [
    "description = pd.read_csv('data_description.csv', sep=';')"
   ]
  },
  {
   "cell_type": "code",
   "execution_count": null,
   "metadata": {},
   "outputs": [],
   "source": [
    "winddata = pd.read_csv('wind-data.csv', sep=',')"
   ]
  },
  {
   "cell_type": "markdown",
   "metadata": {},
   "source": [
    "__Helpful hint__: Load the data into a dataframe. Use the `parse_dates=['Date_time']` argument in the `read_csv` function in order to display dates in later plots."
   ]
  },
  {
   "cell_type": "code",
   "execution_count": null,
   "metadata": {},
   "outputs": [],
   "source": [
    "data = pd.read_csv('wind-data.csv', sep=';', parse_dates=['Date_time'])"
   ]
  },
  {
   "cell_type": "code",
   "execution_count": null,
   "metadata": {},
   "outputs": [],
   "source": [
    "data.head()"
   ]
  },
  {
   "cell_type": "markdown",
   "metadata": {},
   "source": [
    "### Explore the data"
   ]
  },
  {
   "cell_type": "markdown",
   "metadata": {},
   "source": [
    "Once you've loaded the data into a pandas dataframe, explore the data. You may start by generating summary statistics, identifying any missing values, and filling in missing values. Generate visualizations of the features as a way to start understanding the distribution of the data."
   ]
  },
  {
   "cell_type": "code",
   "execution_count": null,
   "metadata": {},
   "outputs": [],
   "source": [
    "data.describe()"
   ]
  },
  {
   "cell_type": "code",
   "execution_count": null,
   "metadata": {},
   "outputs": [],
   "source": [
    "data.isnull().sum()"
   ]
  },
  {
   "cell_type": "code",
   "execution_count": null,
   "metadata": {},
   "outputs": [],
   "source": [
    "data = data.fillna(data.median(axis=0))"
   ]
  },
  {
   "cell_type": "code",
   "execution_count": null,
   "metadata": {},
   "outputs": [],
   "source": [
    "data.isnull().sum()"
   ]
  },
  {
   "cell_type": "markdown",
   "metadata": {},
   "source": [
    "Because we are investigating power output, the active power feature is given by the following features in  the dataset: `P_avg, P_min, P_max, P_std`. Decide on which active power feature to use (hint: perhaps the average or maximum would be a good place to start). Begin by using the function `groupby` to determine how many turbines there are in the dataset. The dataset is huge, so in order to visualize trends in power output, a simpler way would be to look at monthly trends in the data."
   ]
  },
  {
   "cell_type": "markdown",
   "metadata": {},
   "source": [
    "I have decided to use the P_avg as the active power feature to use. This is a good indication of the mean power produced. "
   ]
  },
  {
   "cell_type": "code",
   "execution_count": null,
   "metadata": {},
   "outputs": [],
   "source": [
    "data['Wind_turbine_name'].nunique()"
   ]
  },
  {
   "cell_type": "markdown",
   "metadata": {},
   "source": [
    "There are 4 turbines in the data set"
   ]
  },
  {
   "cell_type": "markdown",
   "metadata": {},
   "source": [
    "There is a wind turbine with `Wind_turbine_name` R80711. Use this column and determine the trend for the month of January."
   ]
  },
  {
   "cell_type": "code",
   "execution_count": null,
   "metadata": {},
   "outputs": [],
   "source": [
    "data = data.loc[data['Wind_turbine_name'] == 'R80711']"
   ]
  },
  {
   "cell_type": "code",
   "execution_count": null,
   "metadata": {},
   "outputs": [],
   "source": [
    "data['Date_time'] = pd.to_datetime(data['Date_time'])\n",
    "data.index = data['Date_time']\n",
    "Jan2013 = data.loc[(data['Date_time'] > pd.to_datetime('2013-01-01')) & (data['Date_time'] < pd.to_datetime('2013-02-01'))]\n",
    "Jan2014 = data.loc[(data['Date_time'] > pd.to_datetime('2014-01-01')) & (data['Date_time'] < pd.to_datetime('2014-02-01'))]\n",
    "Jan2015 = data.loc[(data['Date_time'] > pd.to_datetime('2015-01-01')) & (data['Date_time'] < pd.to_datetime('2015-02-01'))]\n",
    "Jan2016 = data.loc[(data['Date_time'] > pd.to_datetime('2016-01-01')) & (data['Date_time'] < pd.to_datetime('2016-02-01'))]   "
   ]
  },
  {
   "cell_type": "code",
   "execution_count": null,
   "metadata": {},
   "outputs": [],
   "source": [
    "data.index = data['Date_time']"
   ]
  },
  {
   "cell_type": "code",
   "execution_count": null,
   "metadata": {},
   "outputs": [],
   "source": [
    "axis = Jan2013['P_avg'].resample('1D').sum().reset_index()['P_avg'].plot(figsize=(10, 6), linewidth=2)\n",
    "Jan2014['P_avg'].resample('1D').sum().reset_index()['P_avg'].plot(ax=axis)\n",
    "Jan2015['P_avg'].resample('1D').sum().reset_index()['P_avg'].plot(ax=axis)\n",
    "Jan2016['P_avg'].resample('1D').sum().reset_index()['P_avg'].plot(ax=axis)\n",
    "\n",
    "plt.title(\"Windturbine R80711 trend for the month of January.\", fontsize=15)\n",
    "plt.xlabel(\"January\")\n",
    "plt.ylabel(\"measured P_avg\")\n",
    "plt.legend(['2013-Jan','2014-Jan','2015-Jan','2016-Jan'])\n",
    "plt.show()"
   ]
  },
  {
   "cell_type": "markdown",
   "metadata": {},
   "source": [
    "### Find missing values"
   ]
  },
  {
   "cell_type": "markdown",
   "metadata": {},
   "source": [
    "A dataset with missing values will not be usable for fitting and testing a model. Fill in missing values in a way suitable for the model."
   ]
  },
  {
   "cell_type": "code",
   "execution_count": null,
   "metadata": {},
   "outputs": [],
   "source": [
    "data = data.dropna(axis='columns')"
   ]
  },
  {
   "cell_type": "markdown",
   "metadata": {},
   "source": [
    "### Split dataset into predictor and target matrices"
   ]
  },
  {
   "cell_type": "code",
   "execution_count": null,
   "metadata": {},
   "outputs": [],
   "source": [
    "# Values of target\n",
    "y = data['P_avg'].values\n",
    "\n",
    "# Values of attributes\n",
    "dataset = data.drop(['Date_time','Wind_turbine_name','P_avg', 'P_min', 'P_max', 'P_std'], axis=1)\n",
    "X = dataset.values\n",
    "dataset.head()"
   ]
  },
  {
   "cell_type": "code",
   "execution_count": null,
   "metadata": {},
   "outputs": [],
   "source": [
    "number_features = len(dataset.columns)"
   ]
  },
  {
   "cell_type": "markdown",
   "metadata": {},
   "source": [
    "### Dimension Reduction with PCA"
   ]
  },
  {
   "cell_type": "markdown",
   "metadata": {},
   "source": [
    "The dataset we have it quite huge. We need to select features to use for our analysis of the active power. To discover the principal features, we can principal component analysis. First split the data into predictor and target variables. PCA allows you to reduce the number of you predictors, and to decorrelate them especially for features that have a direct relationship like apparent power, reactive power and active power."
   ]
  },
  {
   "cell_type": "code",
   "execution_count": 18,
   "metadata": {},
   "outputs": [
    {
     "data": {
      "text/plain": [
       "PCA(copy=True, iterated_power='auto', n_components=115, random_state=None,\n",
       "  svd_solver='auto', tol=0.0, whiten=False)"
      ]
     },
     "execution_count": 18,
     "metadata": {},
     "output_type": "execute_result"
    }
   ],
   "source": [
    "pca=PCA(n_components=number_features)                                    \n",
    "pca.fit(X) "
   ]
  },
  {
   "cell_type": "code",
   "execution_count": 19,
   "metadata": {},
   "outputs": [
    {
     "data": {
      "text/plain": [
       "array([[ 9.99999998e-01,  2.80022540e-07,  4.06727163e-07, ...,\n",
       "         2.49304707e-06, -4.34649961e-06, -6.90060951e-06],\n",
       "       [ 5.40137474e-05, -1.78649320e-03, -1.71790499e-03, ...,\n",
       "         6.83017139e-02,  4.48415321e-04,  4.17135174e-04],\n",
       "       [-2.62773594e-05,  3.37107294e-03,  2.67644585e-03, ...,\n",
       "         2.22165697e-01,  6.85777341e-03,  6.69221243e-03],\n",
       "       ...,\n",
       "       [ 1.92379080e-10,  3.45564600e-04, -1.70566875e-05, ...,\n",
       "         3.44522962e-05, -6.78595075e-07, -2.63746174e-06],\n",
       "       [-2.89915406e-10, -5.93897098e-06, -2.44701595e-05, ...,\n",
       "        -5.40615143e-06, -1.64053716e-06, -1.19253975e-06],\n",
       "       [ 7.53512991e-11,  1.51827404e-04, -2.07942244e-04, ...,\n",
       "         8.88312271e-06,  2.50626726e-06, -2.28660511e-06]])"
      ]
     },
     "execution_count": 19,
     "metadata": {},
     "output_type": "execute_result"
    }
   ],
   "source": [
    "PCA(copy=True, n_components=None, whiten=False)\n",
    "pca.components_"
   ]
  },
  {
   "cell_type": "markdown",
   "metadata": {},
   "source": [
    "### Plot the variance"
   ]
  },
  {
   "cell_type": "code",
   "execution_count": 20,
   "metadata": {},
   "outputs": [
    {
     "data": {
      "text/plain": [
       "array([9.99276063e-01, 6.77311501e-04, 2.70198667e-05, 1.31895710e-05,\n",
       "       3.09306370e-06, 9.52097541e-07, 8.66924391e-07, 3.06573105e-07,\n",
       "       2.59218366e-07, 1.80588563e-07, 1.60190260e-07, 1.31132778e-07,\n",
       "       1.15250636e-07, 6.44086230e-08, 6.26349433e-08, 4.00174330e-08,\n",
       "       3.28264969e-08, 2.68125917e-08, 1.89122826e-08, 1.51433796e-08,\n",
       "       1.19229154e-08, 1.16031877e-08, 9.98996382e-09, 8.19300813e-09,\n",
       "       7.97956468e-09, 7.35728172e-09, 6.53117095e-09, 4.86788861e-09,\n",
       "       4.77437825e-09, 3.20052470e-09, 2.80548005e-09, 2.40645783e-09,\n",
       "       2.10218030e-09, 1.28424653e-09, 1.11544730e-09, 7.52540043e-10,\n",
       "       7.00811714e-10, 5.40042808e-10, 3.61811600e-10, 3.18532110e-10,\n",
       "       2.72922780e-10, 2.24453540e-10, 1.93794941e-10, 1.83186179e-10,\n",
       "       1.51735478e-10, 1.37237611e-10, 1.13587619e-10, 1.00447689e-10,\n",
       "       8.83594407e-11, 6.76857742e-11, 5.75068352e-11, 4.17557193e-11,\n",
       "       3.27207924e-11, 3.19441308e-11, 2.86637699e-11, 2.56737283e-11,\n",
       "       1.76943320e-11, 1.43468901e-11, 1.33422239e-11, 8.20639687e-12,\n",
       "       7.92400961e-12, 7.57173159e-12, 5.75172167e-12, 5.54842811e-12,\n",
       "       4.60944517e-12, 3.59777820e-12, 3.01472006e-12, 2.45728801e-12,\n",
       "       2.28859077e-12, 2.07477351e-12, 2.01155969e-12, 1.97340772e-12,\n",
       "       1.58721300e-12, 1.49461581e-12, 1.42522193e-12, 8.19077284e-13,\n",
       "       7.95230738e-13, 6.97020103e-13, 6.51731673e-13, 6.06387743e-13,\n",
       "       4.93272154e-13, 4.72530302e-13, 3.57158078e-13, 2.45729797e-13,\n",
       "       2.15986431e-13, 1.76641361e-13, 1.49211634e-13, 1.24745781e-13,\n",
       "       1.16055013e-13, 9.50980522e-14, 9.20557613e-14, 9.08945487e-14,\n",
       "       8.92180725e-14, 7.87205435e-14, 6.22903902e-14, 4.89194424e-14,\n",
       "       4.33210690e-14, 3.88291610e-14, 3.62784756e-14, 2.75972990e-14,\n",
       "       2.63853889e-14, 2.31167333e-14, 1.92851030e-14, 1.45216151e-14,\n",
       "       1.29995976e-14, 7.51365914e-15, 7.00570001e-15, 6.92133450e-15,\n",
       "       4.78402350e-15, 4.26188594e-15, 3.87614185e-15, 3.57848348e-15,\n",
       "       7.88564701e-16, 5.44191173e-16, 4.68741299e-16])"
      ]
     },
     "execution_count": 20,
     "metadata": {},
     "output_type": "execute_result"
    }
   ],
   "source": [
    "pca.explained_variance_ratio_"
   ]
  },
  {
   "cell_type": "code",
   "execution_count": 21,
   "metadata": {},
   "outputs": [
    {
     "data": {
      "text/plain": [
       "array([5.43615304e+10, 3.68463642e+07, 1.46990543e+06, 7.17524711e+05,\n",
       "       1.68265490e+05, 5.17949758e+04, 4.71614786e+04, 1.66778569e+04,\n",
       "       1.41017158e+04, 9.82418276e+03, 8.71449645e+03, 7.13374289e+03,\n",
       "       6.26973986e+03, 3.50388791e+03, 3.40739812e+03, 2.17698491e+03,\n",
       "       1.78579141e+03, 1.45862948e+03, 1.02884545e+03, 8.23813682e+02,\n",
       "       6.48617488e+02, 6.31224007e+02, 5.43463156e+02, 4.45707125e+02,\n",
       "       4.34095606e+02, 4.00242845e+02, 3.55301665e+02, 2.64817586e+02,\n",
       "       2.59730537e+02, 1.74111467e+02, 1.52620677e+02, 1.30913504e+02,\n",
       "       1.14360528e+02, 6.98641842e+01, 6.06813520e+01, 4.09388657e+01,\n",
       "       3.81247973e+01, 2.93788220e+01, 1.96828815e+01, 1.73284377e+01,\n",
       "       1.48472485e+01, 1.22104776e+01, 1.05426218e+01, 9.96549547e+00,\n",
       "       8.25454857e+00, 7.46585139e+00, 6.17927019e+00, 5.46444600e+00,\n",
       "       4.80683427e+00, 3.68216793e+00, 3.12842436e+00, 2.27154927e+00,\n",
       "       1.78004099e+00, 1.73778989e+00, 1.55933526e+00, 1.39667427e+00,\n",
       "       9.62587823e-01, 7.80483923e-01, 7.25829168e-01, 4.46435484e-01,\n",
       "       4.31073360e-01, 4.11909114e-01, 3.12898912e-01, 3.01839557e-01,\n",
       "       2.50758027e-01, 1.95722420e-01, 1.64003525e-01, 1.33678712e-01,\n",
       "       1.24501428e-01, 1.12869574e-01, 1.09430684e-01, 1.07355182e-01,\n",
       "       8.63458370e-02, 8.13084649e-02, 7.75333746e-02, 4.45585523e-02,\n",
       "       4.32612784e-02, 3.79185302e-02, 3.54547982e-02, 3.29880470e-02,\n",
       "       2.68344557e-02, 2.57060800e-02, 1.94297257e-02, 1.33679254e-02,\n",
       "       1.17498591e-02, 9.60945139e-03, 8.11724918e-03, 6.78628444e-03,\n",
       "       6.31349869e-03, 5.17342090e-03, 5.00791749e-03, 4.94474647e-03,\n",
       "       4.85354463e-03, 4.28246946e-03, 3.38865412e-03, 2.66126235e-03,\n",
       "       2.35670572e-03, 2.11234182e-03, 1.97358221e-03, 1.50131827e-03,\n",
       "       1.43538926e-03, 1.25757140e-03, 1.04912722e-03, 7.89989127e-04,\n",
       "       7.07189984e-04, 4.08749920e-04, 3.81116479e-04, 3.76526918e-04,\n",
       "       2.60255248e-04, 2.31850488e-04, 2.10865657e-04, 1.94672769e-04,\n",
       "       4.28986399e-05, 2.96044968e-05, 2.54999548e-05])"
      ]
     },
     "execution_count": 21,
     "metadata": {},
     "output_type": "execute_result"
    }
   ],
   "source": [
    "pca.explained_variance_"
   ]
  },
  {
   "cell_type": "code",
   "execution_count": 22,
   "metadata": {},
   "outputs": [
    {
     "data": {
      "text/plain": [
       "array([ 99.9, 100. , 100. , 100. , 100. , 100. , 100. , 100. , 100. ,\n",
       "       100. , 100. , 100. , 100. , 100. , 100. , 100. , 100. , 100. ,\n",
       "       100. , 100. , 100. , 100. , 100. , 100. , 100. , 100. , 100. ,\n",
       "       100. , 100. , 100. , 100. , 100. , 100. , 100. , 100. , 100. ,\n",
       "       100. , 100. , 100. , 100. , 100. , 100. , 100. , 100. , 100. ,\n",
       "       100. , 100. , 100. , 100. , 100. , 100. , 100. , 100. , 100. ,\n",
       "       100. , 100. , 100. , 100. , 100. , 100. , 100. , 100. , 100. ,\n",
       "       100. , 100. , 100. , 100. , 100. , 100. , 100. , 100. , 100. ,\n",
       "       100. , 100. , 100. , 100. , 100. , 100. , 100. , 100. , 100. ,\n",
       "       100. , 100. , 100. , 100. , 100. , 100. , 100. , 100. , 100. ,\n",
       "       100. , 100. , 100. , 100. , 100. , 100. , 100. , 100. , 100. ,\n",
       "       100. , 100. , 100. , 100. , 100. , 100. , 100. , 100. , 100. ,\n",
       "       100. , 100. , 100. , 100. , 100. , 100. , 100. ])"
      ]
     },
     "execution_count": 22,
     "metadata": {},
     "output_type": "execute_result"
    }
   ],
   "source": [
    "variance = np.cumsum(np.round(pca.explained_variance_ratio_, decimals=3)*100)\n",
    "variance"
   ]
  },
  {
   "cell_type": "code",
   "execution_count": 23,
   "metadata": {},
   "outputs": [
    {
     "data": {
      "text/plain": [
       "[<matplotlib.lines.Line2D at 0x2709912e048>]"
      ]
     },
     "execution_count": 23,
     "metadata": {},
     "output_type": "execute_result"
    },
    {
     "data": {
      "image/png": "[encoded data removed]",
      "text/plain": [
       "<Figure size 432x288 with 1 Axes>"
      ]
     },
     "metadata": {},
     "output_type": "display_data"
    }
   ],
   "source": [
    "plt.ylabel('% Cumulative Variance')\n",
    "plt.xlabel('Principal Componenet')\n",
    "plt.title('PCA Analysis')\n",
    "plt.ylim(30,100.5)\n",
    "plt.style.context('seaborn-whitegrid')\n",
    "plt.plot(variance)"
   ]
  },
  {
   "cell_type": "markdown",
   "metadata": {},
   "source": [
    "### Random Forest with PCA"
   ]
  },
  {
   "cell_type": "markdown",
   "metadata": {},
   "source": [
    "Construct a PCA and Random Forest Regressor pipeline. A pipeline is a term for the processing of data until it reaches a form that is usable for the machine learning algorithm. Now there is an actual pipeline module you'll need to use, that streamlines the process of dimension reduction and application of the machine learning algorithm, in this case the random forest regression model. For now, use the first two principal components to construct the pipeline."
   ]
  },
  {
   "cell_type": "code",
   "execution_count": 24,
   "metadata": {},
   "outputs": [],
   "source": [
    "X_train, X_test, y_train, y_test = train_test_split(X, y, test_size=0.3, random_state=0)"
   ]
  },
  {
   "cell_type": "code",
   "execution_count": 27,
   "metadata": {},
   "outputs": [],
   "source": [
    "from sklearn.ensemble import RandomForestClassifier\n",
    "from sklearn.preprocessing import StandardScaler\n",
    "myPipeline = Pipeline([('scl', StandardScaler()),('pca', PCA(n_components=2)),('clf', RandomForestClassifier(random_state=42))])"
   ]
  },
  {
   "cell_type": "code",
   "execution_count": 28,
   "metadata": {},
   "outputs": [
    {
     "data": {
      "text/plain": [
       "Pipeline(memory=None,\n",
       "     steps=[('scl', StandardScaler(copy=True, with_mean=True, with_std=True)), ('pca', PCA(copy=True, iterated_power='auto', n_components=2, random_state=None,\n",
       "  svd_solver='auto', tol=0.0, whiten=False)), ('clf', RandomForestClassifier(bootstrap=True, class_weight=None, criterion='gini',\n",
       "            max...stimators=10, n_jobs=1,\n",
       "            oob_score=False, random_state=42, verbose=0, warm_start=False))])"
      ]
     },
     "execution_count": 28,
     "metadata": {},
     "output_type": "execute_result"
    }
   ],
   "source": [
    "myPipeline"
   ]
  },
  {
   "cell_type": "markdown",
   "metadata": {},
   "source": [
    "### Plot the principal components"
   ]
  },
  {
   "cell_type": "markdown",
   "metadata": {},
   "source": [
    "Select the first two components and display them. As rule of thumb, the first to components are selected as they are easier to display in a 2-dimensions."
   ]
  },
  {
   "cell_type": "markdown",
   "metadata": {},
   "source": [
    "### Split dataset in training and test sets"
   ]
  },
  {
   "cell_type": "markdown",
   "metadata": {},
   "source": [
    "Split the data into training and test sets and use the pipeline to fit and test the model."
   ]
  },
  {
   "cell_type": "code",
   "execution_count": 29,
   "metadata": {},
   "outputs": [
    {
     "ename": "ValueError",
     "evalue": "Unknown label type: 'continuous'",
     "output_type": "error",
     "traceback": [
      "\u001b[1;31m---------------------------------------------------------------------------\u001b[0m",
      "\u001b[1;31mValueError\u001b[0m                                Traceback (most recent call last)",
      "\u001b[1;32m<ipython-input-29-66d1e6d0eb05>\u001b[0m in \u001b[0;36m<module>\u001b[1;34m()\u001b[0m\n\u001b[1;32m----> 1\u001b[1;33m \u001b[0mmyPipeline\u001b[0m\u001b[1;33m.\u001b[0m\u001b[0mfit\u001b[0m\u001b[1;33m(\u001b[0m\u001b[0mX_train\u001b[0m\u001b[1;33m,\u001b[0m \u001b[0my_train\u001b[0m\u001b[1;33m)\u001b[0m\u001b[1;33m\u001b[0m\u001b[0m\n\u001b[0m",
      "\u001b[1;32mC:\\ProgramData\\Anaconda3\\lib\\site-packages\\sklearn\\pipeline.py\u001b[0m in \u001b[0;36mfit\u001b[1;34m(self, X, y, **fit_params)\u001b[0m\n\u001b[0;32m    248\u001b[0m         \u001b[0mXt\u001b[0m\u001b[1;33m,\u001b[0m \u001b[0mfit_params\u001b[0m \u001b[1;33m=\u001b[0m \u001b[0mself\u001b[0m\u001b[1;33m.\u001b[0m\u001b[0m_fit\u001b[0m\u001b[1;33m(\u001b[0m\u001b[0mX\u001b[0m\u001b[1;33m,\u001b[0m \u001b[0my\u001b[0m\u001b[1;33m,\u001b[0m \u001b[1;33m**\u001b[0m\u001b[0mfit_params\u001b[0m\u001b[1;33m)\u001b[0m\u001b[1;33m\u001b[0m\u001b[0m\n\u001b[0;32m    249\u001b[0m         \u001b[1;32mif\u001b[0m \u001b[0mself\u001b[0m\u001b[1;33m.\u001b[0m\u001b[0m_final_estimator\u001b[0m \u001b[1;32mis\u001b[0m \u001b[1;32mnot\u001b[0m \u001b[1;32mNone\u001b[0m\u001b[1;33m:\u001b[0m\u001b[1;33m\u001b[0m\u001b[0m\n\u001b[1;32m--> 250\u001b[1;33m             \u001b[0mself\u001b[0m\u001b[1;33m.\u001b[0m\u001b[0m_final_estimator\u001b[0m\u001b[1;33m.\u001b[0m\u001b[0mfit\u001b[0m\u001b[1;33m(\u001b[0m\u001b[0mXt\u001b[0m\u001b[1;33m,\u001b[0m \u001b[0my\u001b[0m\u001b[1;33m,\u001b[0m \u001b[1;33m**\u001b[0m\u001b[0mfit_params\u001b[0m\u001b[1;33m)\u001b[0m\u001b[1;33m\u001b[0m\u001b[0m\n\u001b[0m\u001b[0;32m    251\u001b[0m         \u001b[1;32mreturn\u001b[0m \u001b[0mself\u001b[0m\u001b[1;33m\u001b[0m\u001b[0m\n\u001b[0;32m    252\u001b[0m \u001b[1;33m\u001b[0m\u001b[0m\n",
      "\u001b[1;32mC:\\ProgramData\\Anaconda3\\lib\\site-packages\\sklearn\\ensemble\\forest.py\u001b[0m in \u001b[0;36mfit\u001b[1;34m(self, X, y, sample_weight)\u001b[0m\n\u001b[0;32m    271\u001b[0m         \u001b[0mself\u001b[0m\u001b[1;33m.\u001b[0m\u001b[0mn_outputs_\u001b[0m \u001b[1;33m=\u001b[0m \u001b[0my\u001b[0m\u001b[1;33m.\u001b[0m\u001b[0mshape\u001b[0m\u001b[1;33m[\u001b[0m\u001b[1;36m1\u001b[0m\u001b[1;33m]\u001b[0m\u001b[1;33m\u001b[0m\u001b[0m\n\u001b[0;32m    272\u001b[0m \u001b[1;33m\u001b[0m\u001b[0m\n\u001b[1;32m--> 273\u001b[1;33m         \u001b[0my\u001b[0m\u001b[1;33m,\u001b[0m \u001b[0mexpanded_class_weight\u001b[0m \u001b[1;33m=\u001b[0m \u001b[0mself\u001b[0m\u001b[1;33m.\u001b[0m\u001b[0m_validate_y_class_weight\u001b[0m\u001b[1;33m(\u001b[0m\u001b[0my\u001b[0m\u001b[1;33m)\u001b[0m\u001b[1;33m\u001b[0m\u001b[0m\n\u001b[0m\u001b[0;32m    274\u001b[0m \u001b[1;33m\u001b[0m\u001b[0m\n\u001b[0;32m    275\u001b[0m         \u001b[1;32mif\u001b[0m \u001b[0mgetattr\u001b[0m\u001b[1;33m(\u001b[0m\u001b[0my\u001b[0m\u001b[1;33m,\u001b[0m \u001b[1;34m\"dtype\"\u001b[0m\u001b[1;33m,\u001b[0m \u001b[1;32mNone\u001b[0m\u001b[1;33m)\u001b[0m \u001b[1;33m!=\u001b[0m \u001b[0mDOUBLE\u001b[0m \u001b[1;32mor\u001b[0m \u001b[1;32mnot\u001b[0m \u001b[0my\u001b[0m\u001b[1;33m.\u001b[0m\u001b[0mflags\u001b[0m\u001b[1;33m.\u001b[0m\u001b[0mcontiguous\u001b[0m\u001b[1;33m:\u001b[0m\u001b[1;33m\u001b[0m\u001b[0m\n",
      "\u001b[1;32mC:\\ProgramData\\Anaconda3\\lib\\site-packages\\sklearn\\ensemble\\forest.py\u001b[0m in \u001b[0;36m_validate_y_class_weight\u001b[1;34m(self, y)\u001b[0m\n\u001b[0;32m    469\u001b[0m \u001b[1;33m\u001b[0m\u001b[0m\n\u001b[0;32m    470\u001b[0m     \u001b[1;32mdef\u001b[0m \u001b[0m_validate_y_class_weight\u001b[0m\u001b[1;33m(\u001b[0m\u001b[0mself\u001b[0m\u001b[1;33m,\u001b[0m \u001b[0my\u001b[0m\u001b[1;33m)\u001b[0m\u001b[1;33m:\u001b[0m\u001b[1;33m\u001b[0m\u001b[0m\n\u001b[1;32m--> 471\u001b[1;33m         \u001b[0mcheck_classification_targets\u001b[0m\u001b[1;33m(\u001b[0m\u001b[0my\u001b[0m\u001b[1;33m)\u001b[0m\u001b[1;33m\u001b[0m\u001b[0m\n\u001b[0m\u001b[0;32m    472\u001b[0m \u001b[1;33m\u001b[0m\u001b[0m\n\u001b[0;32m    473\u001b[0m         \u001b[0my\u001b[0m \u001b[1;33m=\u001b[0m \u001b[0mnp\u001b[0m\u001b[1;33m.\u001b[0m\u001b[0mcopy\u001b[0m\u001b[1;33m(\u001b[0m\u001b[0my\u001b[0m\u001b[1;33m)\u001b[0m\u001b[1;33m\u001b[0m\u001b[0m\n",
      "\u001b[1;32mC:\\ProgramData\\Anaconda3\\lib\\site-packages\\sklearn\\utils\\multiclass.py\u001b[0m in \u001b[0;36mcheck_classification_targets\u001b[1;34m(y)\u001b[0m\n\u001b[0;32m    170\u001b[0m     if y_type not in ['binary', 'multiclass', 'multiclass-multioutput',\n\u001b[0;32m    171\u001b[0m                       'multilabel-indicator', 'multilabel-sequences']:\n\u001b[1;32m--> 172\u001b[1;33m         \u001b[1;32mraise\u001b[0m \u001b[0mValueError\u001b[0m\u001b[1;33m(\u001b[0m\u001b[1;34m\"Unknown label type: %r\"\u001b[0m \u001b[1;33m%\u001b[0m \u001b[0my_type\u001b[0m\u001b[1;33m)\u001b[0m\u001b[1;33m\u001b[0m\u001b[0m\n\u001b[0m\u001b[0;32m    173\u001b[0m \u001b[1;33m\u001b[0m\u001b[0m\n\u001b[0;32m    174\u001b[0m \u001b[1;33m\u001b[0m\u001b[0m\n",
      "\u001b[1;31mValueError\u001b[0m: Unknown label type: 'continuous'"
     ]
    }
   ],
   "source": [
    "myPipeline.fit(X_train, y_train)"
   ]
  },
  {
   "cell_type": "code",
   "execution_count": 30,
   "metadata": {},
   "outputs": [
    {
     "ename": "NameError",
     "evalue": "name 'pipeline' is not defined",
     "output_type": "error",
     "traceback": [
      "\u001b[1;31m---------------------------------------------------------------------------\u001b[0m",
      "\u001b[1;31mNameError\u001b[0m                                 Traceback (most recent call last)",
      "\u001b[1;32m<ipython-input-30-a0c759197f3c>\u001b[0m in \u001b[0;36m<module>\u001b[1;34m()\u001b[0m\n\u001b[1;32m----> 1\u001b[1;33m \u001b[0my_pred\u001b[0m \u001b[1;33m=\u001b[0m \u001b[0mpipeline\u001b[0m\u001b[1;33m.\u001b[0m\u001b[0mpredict\u001b[0m\u001b[1;33m(\u001b[0m\u001b[0mX_test\u001b[0m\u001b[1;33m)\u001b[0m\u001b[1;33m\u001b[0m\u001b[0m\n\u001b[0m",
      "\u001b[1;31mNameError\u001b[0m: name 'pipeline' is not defined"
     ]
    }
   ],
   "source": [
    "y_pred = pipeline.predict(X_test)"
   ]
  },
  {
   "cell_type": "code",
   "execution_count": 31,
   "metadata": {},
   "outputs": [
    {
     "ename": "NameError",
     "evalue": "name 'y_pred' is not defined",
     "output_type": "error",
     "traceback": [
      "\u001b[1;31m---------------------------------------------------------------------------\u001b[0m",
      "\u001b[1;31mNameError\u001b[0m                                 Traceback (most recent call last)",
      "\u001b[1;32m<ipython-input-31-3aaf935e6aec>\u001b[0m in \u001b[0;36m<module>\u001b[1;34m()\u001b[0m\n\u001b[1;32m----> 1\u001b[1;33m \u001b[0my_pred\u001b[0m\u001b[1;33m\u001b[0m\u001b[0m\n\u001b[0m",
      "\u001b[1;31mNameError\u001b[0m: name 'y_pred' is not defined"
     ]
    }
   ],
   "source": [
    "y_pred"
   ]
  },
  {
   "cell_type": "markdown",
   "metadata": {},
   "source": [
    "### Evaluate the results"
   ]
  },
  {
   "cell_type": "markdown",
   "metadata": {},
   "source": [
    "Using the `sklearn.metrics` moduel determine the accuracy score, i.e., the coefficient of determination $R^2$ of the prediction."
   ]
  },
  {
   "cell_type": "code",
   "execution_count": 32,
   "metadata": {},
   "outputs": [
    {
     "ename": "NameError",
     "evalue": "name 'pipeline' is not defined",
     "output_type": "error",
     "traceback": [
      "\u001b[1;31m---------------------------------------------------------------------------\u001b[0m",
      "\u001b[1;31mNameError\u001b[0m                                 Traceback (most recent call last)",
      "\u001b[1;32m<ipython-input-32-56d002055bb8>\u001b[0m in \u001b[0;36m<module>\u001b[1;34m()\u001b[0m\n\u001b[0;32m      1\u001b[0m \u001b[1;31m# Score\u001b[0m\u001b[1;33m\u001b[0m\u001b[1;33m\u001b[0m\u001b[0m\n\u001b[1;32m----> 2\u001b[1;33m \u001b[0mpipeline\u001b[0m\u001b[1;33m.\u001b[0m\u001b[0mscore\u001b[0m\u001b[1;33m(\u001b[0m\u001b[0mX_test\u001b[0m\u001b[1;33m,\u001b[0m \u001b[0my_test\u001b[0m\u001b[1;33m)\u001b[0m\u001b[1;33m\u001b[0m\u001b[0m\n\u001b[0m",
      "\u001b[1;31mNameError\u001b[0m: name 'pipeline' is not defined"
     ]
    }
   ],
   "source": [
    "# Score\n",
    "pipeline.score(X_test, y_test)"
   ]
  },
  {
   "cell_type": "markdown",
   "metadata": {},
   "source": [
    "### References"
   ]
  },
  {
   "cell_type": "markdown",
   "metadata": {},
   "source": [
    "Referred to for determination of input features to predict power output: [Forecasting Wind Power](https://lucdemortier.github.io/articles/17/WindPower).\n",
    "\n",
    "[Selecting good features – Part IV: stability selection, RFE and everything side by side](http://blog.datadive.net/selecting-good-features-part-iv-stability-selection-rfe-and-everything-side-by-side/)"
   ]
  },
  {
   "cell_type": "code",
   "execution_count": null,
   "metadata": {},
   "outputs": [],
   "source": []
  },
  {
   "cell_type": "code",
   "execution_count": null,
   "metadata": {},
   "outputs": [],
   "source": []
  }
 ],
 "metadata": {
  "kernelspec": {
   "display_name": "Python 3",
   "language": "python",
   "name": "python3"
  },
  "language_info": {
   "codemirror_mode": {
    "name": "ipython",
    "version": 3
   },
   "file_extension": ".py",
   "mimetype": "text/x-python",
   "name": "python",
   "nbconvert_exporter": "python",
   "pygments_lexer": "ipython3",
   "version": "3.6.5"
  }
 },
 "nbformat": 4,
 "nbformat_minor": 2
}
